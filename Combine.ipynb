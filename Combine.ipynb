{
 "cells": [
  {
   "cell_type": "code",
   "execution_count": 1,
   "metadata": {},
   "outputs": [
    {
     "name": "stdout",
     "output_type": "stream",
     "text": [
      "Collecting openpyxlNote: you may need to restart the kernel to use updated packages.\n",
      "\n",
      "  Downloading openpyxl-3.1.2-py2.py3-none-any.whl.metadata (2.5 kB)\n",
      "Collecting et-xmlfile (from openpyxl)\n",
      "  Downloading et_xmlfile-1.1.0-py3-none-any.whl.metadata (1.8 kB)\n",
      "Downloading openpyxl-3.1.2-py2.py3-none-any.whl (249 kB)\n",
      "   ---------------------------------------- 0.0/250.0 kB ? eta -:--:--\n",
      "   ---------------------- ----------------- 143.4/250.0 kB 4.3 MB/s eta 0:00:01\n",
      "   ---------------------------------------  245.8/250.0 kB 3.0 MB/s eta 0:00:01\n",
      "   ---------------------------------------- 250.0/250.0 kB 1.4 MB/s eta 0:00:00\n",
      "Downloading et_xmlfile-1.1.0-py3-none-any.whl (4.7 kB)\n",
      "Installing collected packages: et-xmlfile, openpyxl\n",
      "Successfully installed et-xmlfile-1.1.0 openpyxl-3.1.2\n"
     ]
    }
   ],
   "source": [
    "%pip install openpyxl\n"
   ]
  },
  {
   "cell_type": "code",
   "execution_count": 10,
   "metadata": {},
   "outputs": [
    {
     "name": "stdout",
     "output_type": "stream",
     "text": [
      "Collecting xlrd\n",
      "  Downloading xlrd-2.0.1-py2.py3-none-any.whl.metadata (3.4 kB)\n",
      "Downloading xlrd-2.0.1-py2.py3-none-any.whl (96 kB)\n",
      "   ---------------------------------------- 0.0/96.5 kB ? eta -:--:--\n",
      "   -------------------------------------- - 92.2/96.5 kB 2.6 MB/s eta 0:00:01\n",
      "   ---------------------------------------- 96.5/96.5 kB 918.0 kB/s eta 0:00:00\n",
      "Installing collected packages: xlrd\n",
      "Successfully installed xlrd-2.0.1\n",
      "Note: you may need to restart the kernel to use updated packages.\n"
     ]
    }
   ],
   "source": [
    "%pip install xlrd"
   ]
  },
  {
   "cell_type": "code",
   "execution_count": 7,
   "metadata": {},
   "outputs": [],
   "source": [
    "import pandas as pd\n",
    "import os"
   ]
  },
  {
   "cell_type": "code",
   "execution_count": 5,
   "metadata": {},
   "outputs": [
    {
     "data": {
      "text/plain": [
       "'D:\\\\DOWNLOADS\\\\Crawl_batdongsan\\\\Output_dataset\\\\Data 1000\\\\D1- 200'"
      ]
     },
     "execution_count": 5,
     "metadata": {},
     "output_type": "execute_result"
    }
   ],
   "source": [
    "# Specify the directory where your Excel files are located\n",
    "directory = 'D:\\DOWNLOADS\\Crawl_batdongsan\\Output_dataset\\Data 1000\\D1- 200'\n",
    "# List to hold the data from each Excel file\n",
    "dataframes = []"
   ]
  },
  {
   "cell_type": "code",
   "execution_count": 11,
   "metadata": {},
   "outputs": [],
   "source": [
    "\n",
    "# Iterate over the files in the directory\n",
    "for filename in os.listdir(directory):\n",
    "    if filename.endswith('.xls'):\n",
    "        # Construct the full file path\n",
    "        file_path = os.path.join(directory, filename)\n",
    "        # Read the Excel file into a DataFrame\n",
    "        df = pd.read_excel(file_path)\n",
    "       # Append the DataFrame to the list\n",
    "        dataframes.append(df)\n",
    "\n",
    "# Concatenate all the DataFrames in the list into a single DataFrame\n",
    "combined_df = pd.concat(dataframes, ignore_index=True)\n",
    "\n",
    "# Save the combined DataFrame to a new Excel file\n",
    "output_file_path = 'D:\\DOWNLOADS\\Crawl_batdongsan\\Image\\combined_dataset.xlsx'\n",
    "combined_df.to_excel(output_file_path, index=False, engine='openpyxl')"
   ]
  },
  {
   "cell_type": "code",
   "execution_count": 12,
   "metadata": {},
   "outputs": [
    {
     "name": "stdout",
     "output_type": "stream",
     "text": [
      "   A  B  C\n",
      "0  1  a  1\n",
      "1  2  b  2\n",
      "3  3  c  3\n",
      "4  3  c  4\n"
     ]
    }
   ],
   "source": [
    "import pandas as pd\n",
    "\n",
    "# Let's assume 'data' is your dataset represented as a DataFrame\n",
    "data = pd.DataFrame({\n",
    "    'A': [1, 2, 2, 3, 3, 3],\n",
    "    'B': ['a', 'b', 'b', 'c', 'c', 'c'],\n",
    "    'C': [1, 2, 2, 3, 4, 3]  # Note that the last two rows are unique because of column C\n",
    "})\n",
    "\n",
    "# Removing duplicates\n",
    "unique_data = data.drop_duplicates()\n",
    "\n",
    "print(unique_data)\n"
   ]
  }
 ],
 "metadata": {
  "kernelspec": {
   "display_name": "Python 3",
   "language": "python",
   "name": "python3"
  },
  "language_info": {
   "codemirror_mode": {
    "name": "ipython",
    "version": 3
   },
   "file_extension": ".py",
   "mimetype": "text/x-python",
   "name": "python",
   "nbconvert_exporter": "python",
   "pygments_lexer": "ipython3",
   "version": "3.11.4"
  }
 },
 "nbformat": 4,
 "nbformat_minor": 2
}
